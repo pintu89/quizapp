{
 "cells": [
  {
   "cell_type": "code",
   "execution_count": null,
   "id": "54245f55",
   "metadata": {
    "vscode": {
     "languageId": "plaintext"
    }
   },
   "outputs": [],
   "source": [
    "file_path = \"/home/ai/test/lax/FILE001E\n",
    "whith open(file_path, \"rb\") as f:\n",
    "    raw_bytes = f.read(64)\n",
    "    print(raw_bytes)"
   ]
  }
 ],
 "metadata": {
  "language_info": {
   "name": "python"
  }
 },
 "nbformat": 4,
 "nbformat_minor": 5
}
